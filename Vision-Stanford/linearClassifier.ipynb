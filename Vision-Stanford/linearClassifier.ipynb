{
 "cells": [
  {
   "cell_type": "code",
   "execution_count": 1,
   "metadata": {},
   "outputs": [],
   "source": [
    "import numpy as np\n",
    "from utils import load_cifar10\n",
    "import matplotlib.pyplot as plt"
   ]
  },
  {
   "cell_type": "code",
   "execution_count": 2,
   "metadata": {},
   "outputs": [],
   "source": [
    "X_train, y_train, X_test, y_test = load_cifar10('/home/ashwin/Resources/datasets/cifar-10-batches-py/')"
   ]
  },
  {
   "cell_type": "code",
   "execution_count": 3,
   "metadata": {},
   "outputs": [],
   "source": [
    "X_train = X_train.reshape(X_train.shape[0], -1)\n",
    "X_test  = X_test.reshape(X_test.shape[0], -1)"
   ]
  },
  {
   "cell_type": "code",
   "execution_count": 4,
   "metadata": {},
   "outputs": [],
   "source": [
    "# normalizing image data\n",
    "img_mean = X_train.mean(axis=0)\n",
    "img_stdv = X_train.std(axis=0)\n",
    "\n",
    "X_train  = (X_train - img_mean[:,])/img_stdv[:,]\n",
    "X_test   = (X_test  - img_mean[:,])/img_stdv[:,]"
   ]
  },
  {
   "cell_type": "code",
   "execution_count": 5,
   "metadata": {},
   "outputs": [
    {
     "name": "stdout",
     "output_type": "stream",
     "text": [
      "shape of X_train: (50000, 3072) & shape of y_train: (50000,)\n"
     ]
    }
   ],
   "source": [
    "print('shape of X_train:', X_train.shape, '& shape of y_train:', y_train.shape)"
   ]
  },
  {
   "cell_type": "markdown",
   "metadata": {},
   "source": [
    "# Single neuron linear model"
   ]
  },
  {
   "cell_type": "code",
   "execution_count": 6,
   "metadata": {},
   "outputs": [],
   "source": [
    "n, m = X_train.shape # number of examples, feature dimensions\n",
    "c = 10 # number of classes"
   ]
  },
  {
   "cell_type": "code",
   "execution_count": 7,
   "metadata": {},
   "outputs": [
    {
     "name": "stdout",
     "output_type": "stream",
     "text": [
      "shape of W: (10, 3072) & shape of b: (10,)\n"
     ]
    }
   ],
   "source": [
    "W = np.random.rand(c, m)*0.01\n",
    "b = np.zeros(c)\n",
    "print('shape of W:', W.shape, '& shape of b:', b.shape)"
   ]
  },
  {
   "cell_type": "code",
   "execution_count": 8,
   "metadata": {},
   "outputs": [
    {
     "name": "stdout",
     "output_type": "stream",
     "text": [
      "shape of score matrix S: (50000, 10)\n"
     ]
    }
   ],
   "source": [
    "# Compute Model scores\n",
    "S = X_train@W.T + b\n",
    "print('shape of score matrix S:', S.shape)"
   ]
  },
  {
   "cell_type": "code",
   "execution_count": 9,
   "metadata": {},
   "outputs": [],
   "source": [
    "def softmax(S):\n",
    "    S -= np.max(S, axis=1, keepdims=True) #subtract max from each example for numerical stability\n",
    "    S_exp   = np.exp(S)\n",
    "    softmax = S_exp/(np.sum(S_exp, axis=1, keepdims=True))\n",
    "    return softmax"
   ]
  },
  {
   "cell_type": "code",
   "execution_count": 10,
   "metadata": {},
   "outputs": [
    {
     "name": "stdout",
     "output_type": "stream",
     "text": [
      "shape of activation/probability matrix A: (50000, 10)\n"
     ]
    }
   ],
   "source": [
    "# Compute softmax from class scores\n",
    "A = softmax(S)\n",
    "print('shape of activation/probability matrix A:', A.shape)"
   ]
  },
  {
   "cell_type": "code",
   "execution_count": 11,
   "metadata": {},
   "outputs": [
    {
     "name": "stdout",
     "output_type": "stream",
     "text": [
      "loss: 116527.88542258412\n"
     ]
    }
   ],
   "source": [
    "# Calculate Cross Entropy loss\n",
    "loss = -np.sum(np.log(A[np.arange(n), y_train]))\n",
    "print('loss:',loss)"
   ]
  },
  {
   "cell_type": "code",
   "execution_count": 12,
   "metadata": {},
   "outputs": [
    {
     "name": "stdout",
     "output_type": "stream",
     "text": [
      "shape of dL/dS: (50000, 10)\n"
     ]
    }
   ],
   "source": [
    "# d_loss/d_score\n",
    "\n",
    "dS = A \n",
    "dS[np.arange(n), y_train] -= 1\n",
    "\n",
    "print('shape of dL/dS:', dS.shape)"
   ]
  },
  {
   "cell_type": "code",
   "execution_count": 13,
   "metadata": {},
   "outputs": [
    {
     "name": "stdout",
     "output_type": "stream",
     "text": [
      "shape of dL/dW: (10, 3072)\n",
      "shape of dL/db: (10,)\n"
     ]
    }
   ],
   "source": [
    "# calculate weight gradients\n",
    "\n",
    "dW = dS.T@X_train\n",
    "db = dS.sum(axis=0)\n",
    "\n",
    "print('shape of dL/dW:', dW.shape)\n",
    "print('shape of dL/db:', db.shape)"
   ]
  },
  {
   "cell_type": "code",
   "execution_count": 14,
   "metadata": {},
   "outputs": [],
   "source": [
    "# update weights with learning rate lr\n",
    "lr = 0.01\n",
    "\n",
    "W -= lr*dW\n",
    "b -= lr*db"
   ]
  },
  {
   "cell_type": "markdown",
   "metadata": {},
   "source": [
    "#### Model is built with above procedure, It is present in same directory under the name linearClassifier.py.  \n",
    "#### Importing the model to test the performance"
   ]
  },
  {
   "cell_type": "markdown",
   "metadata": {},
   "source": [
    "# Test Model"
   ]
  },
  {
   "cell_type": "code",
   "execution_count": 15,
   "metadata": {},
   "outputs": [],
   "source": [
    "from linearClassifier import Linear"
   ]
  },
  {
   "cell_type": "code",
   "execution_count": 16,
   "metadata": {},
   "outputs": [],
   "source": [
    "clf = Linear()"
   ]
  },
  {
   "cell_type": "code",
   "execution_count": 17,
   "metadata": {},
   "outputs": [
    {
     "name": "stderr",
     "output_type": "stream",
     "text": [
      "100%|██████████| 10/10 [00:02<00:00,  3.92it/s]\n"
     ]
    }
   ],
   "source": [
    "clf.train(X_train, y_train)"
   ]
  },
  {
   "cell_type": "code",
   "execution_count": 18,
   "metadata": {},
   "outputs": [
    {
     "name": "stdout",
     "output_type": "stream",
     "text": [
      "Accuracy on test data: 0.2488\n"
     ]
    }
   ],
   "source": [
    "y_pred = clf.predict(X_test)\n",
    "accuracy = np.mean(y_pred==y_test)\n",
    "print('Accuracy on test data:',accuracy)"
   ]
  },
  {
   "cell_type": "markdown",
   "metadata": {},
   "source": [
    "# Visualizing Model Weights"
   ]
  },
  {
   "cell_type": "code",
   "execution_count": 19,
   "metadata": {},
   "outputs": [],
   "source": [
    "def scale(X):\n",
    "    return np.array( 255*(X-min(X))/(max(X)-min(X)) , dtype=int)"
   ]
  },
  {
   "cell_type": "code",
   "execution_count": 20,
   "metadata": {},
   "outputs": [
    {
     "data": {
      "image/png": "[encoded data removed]",
      "text/plain": [
       "<Figure size 1152x576 with 10 Axes>"
      ]
     },
     "metadata": {
      "needs_background": "light"
     },
     "output_type": "display_data"
    }
   ],
   "source": [
    "label_names = ['airplane',  'automobile',  'bird',  'cat',  'deer',  'dog',  'frog',  'horse',  'ship',  'truck']\n",
    "\n",
    "fig, ax = plt.subplots(2,5, figsize=(16,8))\n",
    "for i in range(c):\n",
    "    img = scale(clf.W[i]).reshape(32,32,3)\n",
    "    ax[i//5,i%5].imshow(img)\n",
    "    ax[i//5,i%5].set_title(label_names[i])\n",
    "    ax[i//5,i%5].axes.xaxis.set_visible(False)\n",
    "    ax[i//5,i%5].axes.yaxis.set_visible(False)"
   ]
  },
  {
   "cell_type": "markdown",
   "metadata": {},
   "source": [
    "## One way to conceptualize The Logistic Regression\n",
    "If we observe the logistic regression model, we have a weight tensor corresponding to each class, which is of same shape as that of input feature tensor. \n",
    "For prediction\n",
    "- We compute class score by taking a dot product between this weight tensor and input feature tensor.\n",
    "- then we add the bias.\n",
    "- Softmax to convert the class scores to probabilities.\n",
    "\n",
    "As we know that the dot product of two vectors is the indicator of the similarity of two vectors and it attains maximum value when two vectors are pointing in same direction. \n",
    "\n",
    "#### So this process of prediction can be viewed as \n",
    "- **Computing the similarity of examples with some preset templates for different classes.**\n",
    "- Better match with the template yielding higher class score.\n",
    "- (bias term usually account for the relative importance of the class.)\n",
    "- This template is what we learn during the training process.\n",
    "\n",
    "#### Training \n",
    "Model is trained to give higher class score for the correct class. So it is trying to find the template\\[capturing the pattern] for each class which gives high scores for that particular class.\n",
    "\n",
    "Now with this background if we look at the visualization of weights we will observe that, looking at the training data model tried to come up with some template for each class. Given the inherent complexity of the task fitting single template per class is not sufficient, yet it is helpful to understand what models had tried to do.  \n",
    "\n",
    "Model tried to predict the correct class for as many training examples as possible, while doing so it came up with some template that matches to some extent to different examples in the training set. As a result we can see that template for 'Horse'\n",
    "class has horse looking blob with heads on both sides, which might have helped the model to capture both those variants of examples."
   ]
  },
  {
   "cell_type": "code",
   "execution_count": null,
   "metadata": {},
   "outputs": [],
   "source": []
  }
 ],
 "metadata": {
  "kernelspec": {
   "display_name": "Python 3",
   "language": "python",
   "name": "python3"
  },
  "language_info": {
   "codemirror_mode": {
    "name": "ipython",
    "version": 3
   },
   "file_extension": ".py",
   "mimetype": "text/x-python",
   "name": "python",
   "nbconvert_exporter": "python",
   "pygments_lexer": "ipython3",
   "version": "3.8.3"
  }
 },
 "nbformat": 4,
 "nbformat_minor": 4
}
