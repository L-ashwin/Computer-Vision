{
 "cells": [
  {
   "cell_type": "code",
   "execution_count": 1,
   "metadata": {},
   "outputs": [],
   "source": [
    "import numpy as np\n",
    "from utils import load_cifar10\n",
    "import matplotlib.pyplot as plt"
   ]
  },
  {
   "cell_type": "code",
   "execution_count": 2,
   "metadata": {},
   "outputs": [],
   "source": [
    "X_train, y_train, X_test, y_test = load_cifar10('/home/ashwin/Documents/datasets/cifar-10-batches-py/')"
   ]
  },
  {
   "cell_type": "code",
   "execution_count": 3,
   "metadata": {},
   "outputs": [],
   "source": [
    "X_train = X_train.reshape(X_train.shape[0], -1)\n",
    "X_test  = X_test.reshape(X_test.shape[0], -1)"
   ]
  },
  {
   "cell_type": "code",
   "execution_count": 4,
   "metadata": {},
   "outputs": [],
   "source": [
    "# normalizing image data\n",
    "img_mean = X_train.mean(axis=0)\n",
    "img_stdv = X_train.std(axis=0)\n",
    "\n",
    "X_train  = (X_train - img_mean[:,])/img_stdv[:,]\n",
    "X_test   = (X_test  - img_mean[:,])/img_stdv[:,]"
   ]
  },
  {
   "cell_type": "code",
   "execution_count": 5,
   "metadata": {},
   "outputs": [
    {
     "name": "stdout",
     "output_type": "stream",
     "text": [
      "shape of X_train: (50000, 3072) & shape of y_train: (50000,)\n"
     ]
    }
   ],
   "source": [
    "print('shape of X_train:', X_train.shape, '& shape of y_train:', y_train.shape)"
   ]
  },
  {
   "cell_type": "markdown",
   "metadata": {},
   "source": [
    "# Single neuron linear model"
   ]
  },
  {
   "cell_type": "code",
   "execution_count": 6,
   "metadata": {},
   "outputs": [],
   "source": [
    "n, m = X_train.shape # number of examples, feature dimensions\n",
    "c = 10 # number of classes"
   ]
  },
  {
   "cell_type": "code",
   "execution_count": 7,
   "metadata": {},
   "outputs": [
    {
     "name": "stdout",
     "output_type": "stream",
     "text": [
      "shape of W: (10, 3072) & shape of b: (10,)\n"
     ]
    }
   ],
   "source": [
    "W = np.random.rand(c, m)*0.01\n",
    "b = np.zeros(c)\n",
    "print('shape of W:', W.shape, '& shape of b:', b.shape)"
   ]
  },
  {
   "cell_type": "code",
   "execution_count": 8,
   "metadata": {},
   "outputs": [
    {
     "name": "stdout",
     "output_type": "stream",
     "text": [
      "shape of score matrix S: (50000, 10)\n"
     ]
    }
   ],
   "source": [
    "# Compute Model scores\n",
    "S = X_train@W.T + b\n",
    "print('shape of score matrix S:', S.shape)"
   ]
  },
  {
   "cell_type": "code",
   "execution_count": 9,
   "metadata": {},
   "outputs": [],
   "source": [
    "def softmax(S):\n",
    "    S -= np.max(S, axis=1, keepdims=True) #subtract max from each example for numerical stability\n",
    "    S_exp   = np.exp(S)\n",
    "    softmax = S_exp/(np.sum(S_exp, axis=1, keepdims=True))\n",
    "    return softmax"
   ]
  },
  {
   "cell_type": "code",
   "execution_count": 10,
   "metadata": {},
   "outputs": [
    {
     "name": "stdout",
     "output_type": "stream",
     "text": [
      "shape of activation/probability matrix A: (50000, 10)\n"
     ]
    }
   ],
   "source": [
    "# Compute softmax from class scores\n",
    "A = softmax(S)\n",
    "print('shape of activation/probability matrix A:', A.shape)"
   ]
  },
  {
   "cell_type": "code",
   "execution_count": 11,
   "metadata": {},
   "outputs": [
    {
     "name": "stdout",
     "output_type": "stream",
     "text": [
      "loss: 115775.12331207245\n"
     ]
    }
   ],
   "source": [
    "# Calculate Cross Entropy loss\n",
    "loss = -np.sum(np.log(A[np.arange(n), y_train]))\n",
    "print('loss:',loss)"
   ]
  },
  {
   "cell_type": "code",
   "execution_count": 12,
   "metadata": {},
   "outputs": [
    {
     "name": "stdout",
     "output_type": "stream",
     "text": [
      "shape of dL/dS: (50000, 10)\n"
     ]
    }
   ],
   "source": [
    "# d_loss/d_score\n",
    "\n",
    "dS = A \n",
    "dS[np.arange(n), y_train] -= 1\n",
    "\n",
    "print('shape of dL/dS:', dS.shape)"
   ]
  },
  {
   "cell_type": "code",
   "execution_count": 13,
   "metadata": {},
   "outputs": [
    {
     "name": "stdout",
     "output_type": "stream",
     "text": [
      "shape of dL/dW: (10, 3072)\n",
      "shape of dL/db: (10,)\n"
     ]
    }
   ],
   "source": [
    "# calculate weight gradients\n",
    "\n",
    "dW = dS.T@X_train\n",
    "db = dS.sum(axis=0)\n",
    "\n",
    "print('shape of dL/dW:', dW.shape)\n",
    "print('shape of dL/db:', db.shape)"
   ]
  },
  {
   "cell_type": "code",
   "execution_count": 14,
   "metadata": {},
   "outputs": [],
   "source": [
    "# update weights with learning rate lr\n",
    "lr = 0.01\n",
    "\n",
    "W -= lr*dW\n",
    "b -= lr*b"
   ]
  },
  {
   "cell_type": "markdown",
   "metadata": {},
   "source": [
    "#### Model is built with above procedure, It is present in same directory under the name linearClassifier.py.  \n",
    "#### Importing the model to test the performance"
   ]
  },
  {
   "cell_type": "markdown",
   "metadata": {},
   "source": [
    "# Test Model"
   ]
  },
  {
   "cell_type": "code",
   "execution_count": 15,
   "metadata": {},
   "outputs": [],
   "source": [
    "from linearClassifier import Linear"
   ]
  },
  {
   "cell_type": "code",
   "execution_count": 16,
   "metadata": {},
   "outputs": [],
   "source": [
    "clf = Linear()"
   ]
  },
  {
   "cell_type": "code",
   "execution_count": 17,
   "metadata": {},
   "outputs": [
    {
     "name": "stderr",
     "output_type": "stream",
     "text": [
      "100%|██████████| 10/10 [00:03<00:00,  3.19it/s]\n"
     ]
    }
   ],
   "source": [
    "clf.train(X_train, y_train)"
   ]
  },
  {
   "cell_type": "code",
   "execution_count": 18,
   "metadata": {},
   "outputs": [
    {
     "name": "stdout",
     "output_type": "stream",
     "text": [
      "Accuracy on test data: 0.2366\n"
     ]
    }
   ],
   "source": [
    "y_pred = clf.predict(X_test)\n",
    "accuracy = np.mean(y_pred==y_test)\n",
    "print('Accuracy on test data:',accuracy)"
   ]
  },
  {
   "cell_type": "markdown",
   "metadata": {},
   "source": [
    "# Visualizing Model Weights"
   ]
  },
  {
   "cell_type": "code",
   "execution_count": 19,
   "metadata": {},
   "outputs": [],
   "source": [
    "def scale(X):\n",
    "    return np.array( 255*(X-min(X))/(max(X)-min(X)) , dtype=int)"
   ]
  },
  {
   "cell_type": "code",
   "execution_count": 20,
   "metadata": {},
   "outputs": [
    {
     "data": {
      "image/png": "[encoded data removed]",
      "text/plain": [
       "<Figure size 1152x576 with 10 Axes>"
      ]
     },
     "metadata": {
      "needs_background": "light"
     },
     "output_type": "display_data"
    }
   ],
   "source": [
    "label_names = ['airplane',  'automobile',  'bird',  'cat',  'deer',  'dog',  'frog',  'horse',  'ship',  'truck']\n",
    "\n",
    "fig, ax = plt.subplots(2,5, figsize=(16,8))\n",
    "for i in range(c):\n",
    "    img = scale(clf.W[i]).reshape(32,32,3)\n",
    "    ax[i//5,i%5].imshow(img)\n",
    "    ax[i//5,i%5].set_title(label_names[i])\n",
    "    ax[i//5,i%5].axes.xaxis.set_visible(False)\n",
    "    ax[i//5,i%5].axes.yaxis.set_visible(False)"
   ]
  },
  {
   "cell_type": "code",
   "execution_count": null,
   "metadata": {},
   "outputs": [],
   "source": []
  }
 ],
 "metadata": {
  "kernelspec": {
   "display_name": "Python 3",
   "language": "python",
   "name": "python3"
  },
  "language_info": {
   "codemirror_mode": {
    "name": "ipython",
    "version": 3
   },
   "file_extension": ".py",
   "mimetype": "text/x-python",
   "name": "python",
   "nbconvert_exporter": "python",
   "pygments_lexer": "ipython3",
   "version": "3.8.3"
  }
 },
 "nbformat": 4,
 "nbformat_minor": 4
}
