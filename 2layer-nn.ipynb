{
 "cells": [
  {
   "cell_type": "code",
   "execution_count": 1,
   "metadata": {},
   "outputs": [],
   "source": [
    "import numpy as np\n",
    "from utils import load_cifar10\n",
    "import matplotlib.pyplot as plt"
   ]
  },
  {
   "cell_type": "code",
   "execution_count": 2,
   "metadata": {},
   "outputs": [],
   "source": [
    "def softmax(S):\n",
    "    S -= np.max(S, axis=1, keepdims=True) #subtract max from each example for numerical stability\n",
    "    S_exp   = np.exp(S)\n",
    "    softmax = S_exp/(np.sum(S_exp, axis=1, keepdims=True))\n",
    "    return softmax"
   ]
  },
  {
   "cell_type": "code",
   "execution_count": 3,
   "metadata": {},
   "outputs": [],
   "source": [
    "X_train, y_train, X_test, y_test = load_cifar10('/home/ashwin/Resources/datasets/cifar-10-batches-py/')"
   ]
  },
  {
   "cell_type": "code",
   "execution_count": 4,
   "metadata": {},
   "outputs": [],
   "source": [
    "X_train = X_train.reshape(X_train.shape[0], -1)\n",
    "X_test  = X_test.reshape(X_test.shape[0], -1)"
   ]
  },
  {
   "cell_type": "code",
   "execution_count": 5,
   "metadata": {},
   "outputs": [],
   "source": [
    "# normalizing image data\n",
    "img_mean = X_train.mean(axis=0)\n",
    "img_stdv = X_train.std(axis=0)\n",
    "\n",
    "X_train  = (X_train - img_mean[:,])/img_stdv[:,]\n",
    "X_test   = (X_test  - img_mean[:,])/img_stdv[:,]"
   ]
  },
  {
   "cell_type": "code",
   "execution_count": 6,
   "metadata": {},
   "outputs": [
    {
     "name": "stdout",
     "output_type": "stream",
     "text": [
      "shape of X_train: (50000, 3072) & shape of y_train: (50000,)\n"
     ]
    }
   ],
   "source": [
    "print('shape of X_train:', X_train.shape, '& shape of y_train:', y_train.shape)"
   ]
  },
  {
   "cell_type": "code",
   "execution_count": 7,
   "metadata": {},
   "outputs": [],
   "source": [
    "n, m = X_train.shape # number of examples, feature dimensions"
   ]
  },
  {
   "cell_type": "markdown",
   "metadata": {},
   "source": [
    "# Forward"
   ]
  },
  {
   "cell_type": "markdown",
   "metadata": {},
   "source": [
    "## Hidden layer"
   ]
  },
  {
   "cell_type": "code",
   "execution_count": 8,
   "metadata": {},
   "outputs": [],
   "source": [
    "h = 20 # nummber of hidden units / Output features for hidden layer"
   ]
  },
  {
   "cell_type": "code",
   "execution_count": 9,
   "metadata": {},
   "outputs": [
    {
     "name": "stdout",
     "output_type": "stream",
     "text": [
      "shape of W: (20, 3072) & shape of b: (20,)\n"
     ]
    }
   ],
   "source": [
    "W1 = np.random.rand(h, m)*0.01 # (Output features, Input features)\n",
    "b1 = np.zeros(h)\n",
    "print('shape of W:', W1.shape, '& shape of b:', b1.shape)"
   ]
  },
  {
   "cell_type": "code",
   "execution_count": 10,
   "metadata": {},
   "outputs": [
    {
     "name": "stdout",
     "output_type": "stream",
     "text": [
      "shape of score matrix S: (50000, 20)\n"
     ]
    }
   ],
   "source": [
    "# Compute Model scores\n",
    "S1 = X_train@W1.T + b1\n",
    "print('shape of score matrix S:', S1.shape)"
   ]
  },
  {
   "cell_type": "code",
   "execution_count": 11,
   "metadata": {},
   "outputs": [
    {
     "name": "stdout",
     "output_type": "stream",
     "text": [
      "shape of activation/matrix A: (50000, 20)\n"
     ]
    }
   ],
   "source": [
    "# Non-Linearity - ReLU\n",
    "A1 = np.maximum(S1, 0)\n",
    "print('shape of activation/matrix A:', A1.shape)"
   ]
  },
  {
   "cell_type": "markdown",
   "metadata": {},
   "source": [
    "## Output layer"
   ]
  },
  {
   "cell_type": "code",
   "execution_count": 12,
   "metadata": {},
   "outputs": [],
   "source": [
    "c = 10 # number of classes / Output features for output layer"
   ]
  },
  {
   "cell_type": "code",
   "execution_count": 13,
   "metadata": {},
   "outputs": [
    {
     "name": "stdout",
     "output_type": "stream",
     "text": [
      "shape of W: (10, 20) & shape of b: (10,)\n"
     ]
    }
   ],
   "source": [
    "W2 = np.random.rand(c, h)*0.01 # (Output features, Input features)\n",
    "b2 = np.zeros(c)\n",
    "print('shape of W:', W2.shape, '& shape of b:', b2.shape)"
   ]
  },
  {
   "cell_type": "code",
   "execution_count": 14,
   "metadata": {},
   "outputs": [
    {
     "name": "stdout",
     "output_type": "stream",
     "text": [
      "shape of score matrix S: (50000, 10)\n"
     ]
    }
   ],
   "source": [
    "# Compute Model scores\n",
    "S2 = A1@W2.T + b2\n",
    "print('shape of score matrix S:', S2.shape)"
   ]
  },
  {
   "cell_type": "code",
   "execution_count": 15,
   "metadata": {},
   "outputs": [
    {
     "name": "stdout",
     "output_type": "stream",
     "text": [
      "shape of activation/probability matrix A: (50000, 10)\n"
     ]
    }
   ],
   "source": [
    "# Compute softmax from class scores\n",
    "A2 = softmax(S2)\n",
    "print('shape of activation/probability matrix A:', A2.shape)"
   ]
  },
  {
   "cell_type": "markdown",
   "metadata": {},
   "source": [
    "## Loss"
   ]
  },
  {
   "cell_type": "code",
   "execution_count": 16,
   "metadata": {},
   "outputs": [
    {
     "name": "stdout",
     "output_type": "stream",
     "text": [
      "loss: 115641.81329195091\n"
     ]
    }
   ],
   "source": [
    "# Calculate Cross Entropy loss\n",
    "loss = -np.sum(np.log(A2[np.arange(n), y_train]))\n",
    "print('loss:',loss)"
   ]
  },
  {
   "cell_type": "markdown",
   "metadata": {},
   "source": [
    "# Backward"
   ]
  },
  {
   "cell_type": "code",
   "execution_count": 17,
   "metadata": {},
   "outputs": [
    {
     "name": "stdout",
     "output_type": "stream",
     "text": [
      "shape of dL/dS: (50000, 10)\n"
     ]
    }
   ],
   "source": [
    "# d_loss/d_score\n",
    "\n",
    "dS2 = A2 \n",
    "dS2[np.arange(n), y_train] -= 1\n",
    "\n",
    "print('shape of dL/dS:', dS2.shape)"
   ]
  },
  {
   "cell_type": "code",
   "execution_count": 18,
   "metadata": {},
   "outputs": [
    {
     "name": "stdout",
     "output_type": "stream",
     "text": [
      "shape of dL/dA: (50000, 20)\n",
      "shape of dL/dW: (10, 20)\n",
      "shape of dL/db: (10,)\n"
     ]
    }
   ],
   "source": [
    "# calculate weight gradients\n",
    "\n",
    "dA1  = dS2@W2\n",
    "dW2  = dS2.T@A1\n",
    "db2  = dS2.sum(axis=0)\n",
    "\n",
    "print('shape of dL/dA:', dA1.shape)\n",
    "print('shape of dL/dW:', dW2.shape)\n",
    "print('shape of dL/db:', db2.shape)"
   ]
  },
  {
   "cell_type": "code",
   "execution_count": 19,
   "metadata": {},
   "outputs": [
    {
     "name": "stdout",
     "output_type": "stream",
     "text": [
      "shape of dL/dS: (50000, 20)\n"
     ]
    }
   ],
   "source": [
    "# derivative for ReLU axtivation\n",
    "\n",
    "dS1 = dA1\n",
    "dS1[S1<0] = 0\n",
    "\n",
    "print('shape of dL/dS:', dS1.shape)"
   ]
  },
  {
   "cell_type": "code",
   "execution_count": 20,
   "metadata": {},
   "outputs": [
    {
     "name": "stdout",
     "output_type": "stream",
     "text": [
      "shape of dL/dW: (20, 3072)\n",
      "shape of dL/db: (20,)\n"
     ]
    }
   ],
   "source": [
    "# calculate weight gradients\n",
    "\n",
    "dW1  = dS1.T@X_train\n",
    "db1  = dS1.sum(axis=0)\n",
    "\n",
    "print('shape of dL/dW:', dW1.shape)\n",
    "print('shape of dL/db:', db1.shape)"
   ]
  },
  {
   "cell_type": "markdown",
   "metadata": {},
   "source": [
    "# Weight Update"
   ]
  },
  {
   "cell_type": "code",
   "execution_count": 21,
   "metadata": {},
   "outputs": [],
   "source": [
    "# update weights with learning rate lr\n",
    "lr = 0.01\n",
    "\n",
    "W1 -= lr*dW1\n",
    "W2 -= lr*dW2\n",
    "b1 -= lr*db1\n",
    "b2 -= lr*db2"
   ]
  },
  {
   "cell_type": "code",
   "execution_count": null,
   "metadata": {},
   "outputs": [],
   "source": []
  }
 ],
 "metadata": {
  "kernelspec": {
   "display_name": "Python 3",
   "language": "python",
   "name": "python3"
  },
  "language_info": {
   "codemirror_mode": {
    "name": "ipython",
    "version": 3
   },
   "file_extension": ".py",
   "mimetype": "text/x-python",
   "name": "python",
   "nbconvert_exporter": "python",
   "pygments_lexer": "ipython3",
   "version": "3.8.3"
  }
 },
 "nbformat": 4,
 "nbformat_minor": 4
}
