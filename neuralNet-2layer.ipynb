{
 "cells": [
  {
   "cell_type": "code",
   "execution_count": 1,
   "metadata": {},
   "outputs": [],
   "source": [
    "import numpy as np\n",
    "from utils import load_cifar10\n",
    "import matplotlib.pyplot as plt"
   ]
  },
  {
   "cell_type": "code",
   "execution_count": 2,
   "metadata": {},
   "outputs": [],
   "source": [
    "def softmax(S):\n",
    "    S -= np.max(S, axis=1, keepdims=True) #subtract max from each example for numerical stability\n",
    "    S_exp   = np.exp(S)\n",
    "    softmax = S_exp/(np.sum(S_exp, axis=1, keepdims=True))\n",
    "    return softmax"
   ]
  },
  {
   "cell_type": "code",
   "execution_count": 3,
   "metadata": {},
   "outputs": [],
   "source": [
    "X_train, y_train, X_test, y_test = load_cifar10('/home/ashwin/Resources/datasets/cifar-10-batches-py/')"
   ]
  },
  {
   "cell_type": "code",
   "execution_count": 4,
   "metadata": {},
   "outputs": [],
   "source": [
    "X_train = X_train.reshape(X_train.shape[0], -1)\n",
    "X_test  = X_test.reshape(X_test.shape[0], -1)"
   ]
  },
  {
   "cell_type": "code",
   "execution_count": 5,
   "metadata": {},
   "outputs": [],
   "source": [
    "# normalizing image data\n",
    "img_mean = X_train.mean(axis=0)\n",
    "img_stdv = X_train.std(axis=0)\n",
    "\n",
    "X_train  = (X_train - img_mean[:,])/img_stdv[:,]\n",
    "X_test   = (X_test  - img_mean[:,])/img_stdv[:,]"
   ]
  },
  {
   "cell_type": "code",
   "execution_count": 6,
   "metadata": {},
   "outputs": [
    {
     "name": "stdout",
     "output_type": "stream",
     "text": [
      "shape of X_train: (50000, 3072) & shape of y_train: (50000,)\n"
     ]
    }
   ],
   "source": [
    "print('shape of X_train:', X_train.shape, '& shape of y_train:', y_train.shape)"
   ]
  },
  {
   "cell_type": "code",
   "execution_count": 7,
   "metadata": {},
   "outputs": [],
   "source": [
    "n, m = X_train.shape # number of examples, feature dimensions"
   ]
  },
  {
   "cell_type": "markdown",
   "metadata": {},
   "source": [
    "# Forward"
   ]
  },
  {
   "cell_type": "markdown",
   "metadata": {},
   "source": [
    "## Hidden layer"
   ]
  },
  {
   "cell_type": "code",
   "execution_count": 8,
   "metadata": {},
   "outputs": [],
   "source": [
    "h = 20 # nummber of hidden units i.e. Output features for hidden layer"
   ]
  },
  {
   "cell_type": "code",
   "execution_count": 9,
   "metadata": {},
   "outputs": [
    {
     "name": "stdout",
     "output_type": "stream",
     "text": [
      "shape of W1: (20, 3072) & shape of b1: (20,)\n"
     ]
    }
   ],
   "source": [
    "# Initialize weights\n",
    "W1 = np.random.rand(h, m)*0.01 # (Output features, Input features)\n",
    "b1 = np.zeros(h)\n",
    "print('shape of W1:', W1.shape, '& shape of b1:', b1.shape)"
   ]
  },
  {
   "cell_type": "code",
   "execution_count": 10,
   "metadata": {},
   "outputs": [
    {
     "name": "stdout",
     "output_type": "stream",
     "text": [
      "shape of activation/matrix A1: (50000, 20)\n"
     ]
    }
   ],
   "source": [
    "# hidden layer scores\n",
    "S1 = X_train@W1.T + b1\n",
    "\n",
    "# Activations (ReLU)\n",
    "A1 = np.maximum(S1, 0)\n",
    "print('shape of activation/matrix A1:', A1.shape)"
   ]
  },
  {
   "cell_type": "markdown",
   "metadata": {},
   "source": [
    "## Output layer"
   ]
  },
  {
   "cell_type": "code",
   "execution_count": 11,
   "metadata": {},
   "outputs": [],
   "source": [
    "c = 10 # number of classes i.e. Output features for output layer"
   ]
  },
  {
   "cell_type": "code",
   "execution_count": 12,
   "metadata": {},
   "outputs": [
    {
     "name": "stdout",
     "output_type": "stream",
     "text": [
      "shape of W2: (10, 20) & shape of b2: (10,)\n"
     ]
    }
   ],
   "source": [
    "# Initialize weights\n",
    "W2 = np.random.rand(c, h)*0.01 # (Output features, Input features)\n",
    "b2 = np.zeros(c)\n",
    "print('shape of W2:', W2.shape, '& shape of b2:', b2.shape)"
   ]
  },
  {
   "cell_type": "code",
   "execution_count": 13,
   "metadata": {},
   "outputs": [
    {
     "name": "stdout",
     "output_type": "stream",
     "text": [
      "shape of activation/probability matrix A2: (50000, 10)\n"
     ]
    }
   ],
   "source": [
    "# Model scores\n",
    "S2 = A1@W2.T + b2\n",
    "\n",
    "# Output Activations (Softmax)\n",
    "A2 = softmax(S2)\n",
    "print('shape of activation/probability matrix A2:', A2.shape)"
   ]
  },
  {
   "cell_type": "markdown",
   "metadata": {},
   "source": [
    "## Loss"
   ]
  },
  {
   "cell_type": "code",
   "execution_count": 14,
   "metadata": {},
   "outputs": [
    {
     "name": "stdout",
     "output_type": "stream",
     "text": [
      "loss: 115358.86242198483\n"
     ]
    }
   ],
   "source": [
    "# Calculate Cross Entropy loss\n",
    "loss = -np.sum(np.log(A2[np.arange(n), y_train]))\n",
    "print('loss:',loss)"
   ]
  },
  {
   "cell_type": "markdown",
   "metadata": {},
   "source": [
    "# Backward"
   ]
  },
  {
   "cell_type": "code",
   "execution_count": 15,
   "metadata": {},
   "outputs": [
    {
     "name": "stdout",
     "output_type": "stream",
     "text": [
      "shape of dL/dS2: (50000, 10)\n"
     ]
    }
   ],
   "source": [
    "# d_loss/d_score\n",
    "\n",
    "dS2 = A2 \n",
    "dS2[np.arange(n), y_train] -= 1\n",
    "\n",
    "print('shape of dL/dS2:', dS2.shape)"
   ]
  },
  {
   "cell_type": "code",
   "execution_count": 16,
   "metadata": {},
   "outputs": [
    {
     "name": "stdout",
     "output_type": "stream",
     "text": [
      "shape of dL/dA1: (50000, 20)\n",
      "shape of dL/dW2: (10, 20)\n",
      "shape of dL/db2: (10,)\n"
     ]
    }
   ],
   "source": [
    "# calculate weight gradients\n",
    "\n",
    "dA1  = dS2@W2\n",
    "dW2  = dS2.T@A1\n",
    "db2  = dS2.sum(axis=0)\n",
    "\n",
    "print('shape of dL/dA1:', dA1.shape)\n",
    "print('shape of dL/dW2:', dW2.shape)\n",
    "print('shape of dL/db2:', db2.shape)"
   ]
  },
  {
   "cell_type": "code",
   "execution_count": 17,
   "metadata": {},
   "outputs": [
    {
     "name": "stdout",
     "output_type": "stream",
     "text": [
      "shape of dL/dS1: (50000, 20)\n"
     ]
    }
   ],
   "source": [
    "# derivative for ReLU activation\n",
    "\n",
    "dS1 = dA1\n",
    "dS1[S1<0] = 0\n",
    "\n",
    "print('shape of dL/dS1:', dS1.shape)"
   ]
  },
  {
   "cell_type": "code",
   "execution_count": 18,
   "metadata": {},
   "outputs": [
    {
     "name": "stdout",
     "output_type": "stream",
     "text": [
      "shape of dL/dW1: (20, 3072)\n",
      "shape of dL/db1: (20,)\n"
     ]
    }
   ],
   "source": [
    "# calculate weight gradients\n",
    "\n",
    "dW1  = dS1.T@X_train\n",
    "db1  = dS1.sum(axis=0)\n",
    "\n",
    "print('shape of dL/dW1:', dW1.shape)\n",
    "print('shape of dL/db1:', db1.shape)"
   ]
  },
  {
   "cell_type": "markdown",
   "metadata": {},
   "source": [
    "# Weight Update"
   ]
  },
  {
   "cell_type": "code",
   "execution_count": 19,
   "metadata": {},
   "outputs": [],
   "source": [
    "# update weights with learning rate lr\n",
    "lr = 0.01\n",
    "\n",
    "W1 -= lr*dW1\n",
    "W2 -= lr*dW2\n",
    "b1 -= lr*db1\n",
    "b2 -= lr*db2"
   ]
  },
  {
   "cell_type": "markdown",
   "metadata": {},
   "source": [
    "# Training loop"
   ]
  },
  {
   "cell_type": "code",
   "execution_count": 20,
   "metadata": {},
   "outputs": [],
   "source": [
    "# Initialize weights\n",
    "\n",
    "n, m = X_train.shape # number of examples, feature dimensions\n",
    "h = 20 # nummber of hidden units i.e. Output features for hidden layer\n",
    "c = 10 # number of classes i.e. Output features for output layer\n",
    "\n",
    "W1 = np.random.rand(h, m)*0.01 # (Output features, Input features)\n",
    "b1 = np.zeros(h)\n",
    "\n",
    "W2 = np.random.rand(c, h)*0.01 # (Output features, Input features)\n",
    "b2 = np.zeros(c)"
   ]
  },
  {
   "cell_type": "code",
   "execution_count": 21,
   "metadata": {},
   "outputs": [],
   "source": [
    "# Define learning rate lr and number of epochs\n",
    "lr = 1e-6\n",
    "epochs = 200"
   ]
  },
  {
   "cell_type": "code",
   "execution_count": 22,
   "metadata": {},
   "outputs": [
    {
     "name": "stdout",
     "output_type": "stream",
     "text": [
      "Epoch 1: Loss 115487.72\n",
      "Train Accuracy: 0.0703\n",
      "\n",
      "Epoch 50: Loss 111416.23\n",
      "Train Accuracy: 0.1814\n",
      "\n",
      "Epoch 100: Loss 102050.41\n",
      "Train Accuracy: 0.2544\n",
      "\n",
      "Epoch 150: Loss 95928.4\n",
      "Train Accuracy: 0.3087\n",
      "\n",
      "Epoch 200: Loss 91613.37\n",
      "Train Accuracy: 0.3444\n",
      "\n"
     ]
    }
   ],
   "source": [
    "for epoch in range(epochs):\n",
    "\n",
    "\n",
    "    # hidden layer activations\n",
    "    S1 = X_train@W1.T + b1\n",
    "    A1 = np.maximum(S1, 0)\n",
    "\n",
    "    # Output layer activations\n",
    "    S2 = A1@W2.T + b2\n",
    "    A2 = softmax(S2)\n",
    "\n",
    "    # Cross Entropy loss\n",
    "    loss = -np.sum(np.log(A2[np.arange(n), y_train]))\n",
    "    if ((epoch+1) % 50 == 0) or (epoch==0):\n",
    "        print(f'Epoch {epoch+1}: Loss {np.round(loss, 2)}')\n",
    "        y_pred = np.argmax(A2, axis=1)\n",
    "        print(f'Train Accuracy: {np.round(np.mean(y_pred == y_train), 4)}\\n')\n",
    "    \n",
    "    # d_loss/d_score\n",
    "    dS2 = A2 \n",
    "    dS2[np.arange(n), y_train] -= 1\n",
    "\n",
    "    # Output layer gradients\n",
    "    dA1  = dS2@W2\n",
    "    dW2  = dS2.T@A1\n",
    "    db2  = dS2.sum(axis=0)\n",
    "\n",
    "    # derivative for ReLU activation\n",
    "    dS1 = dA1\n",
    "    dS1[S1<0] = 0\n",
    "\n",
    "    # hidden layer gradients\n",
    "    dW1  = dS1.T@X_train\n",
    "    db1  = dS1.sum(axis=0)\n",
    "\n",
    "    # update weights with learning rate lr\n",
    "    W1 -= lr*dW1\n",
    "    W2 -= lr*dW2\n",
    "    b1 -= lr*db1\n",
    "    b2 -= lr*db2"
   ]
  },
  {
   "cell_type": "code",
   "execution_count": null,
   "metadata": {},
   "outputs": [],
   "source": []
  }
 ],
 "metadata": {
  "kernelspec": {
   "display_name": "Python 3",
   "language": "python",
   "name": "python3"
  },
  "language_info": {
   "codemirror_mode": {
    "name": "ipython",
    "version": 3
   },
   "file_extension": ".py",
   "mimetype": "text/x-python",
   "name": "python",
   "nbconvert_exporter": "python",
   "pygments_lexer": "ipython3",
   "version": "3.7.4"
  }
 },
 "nbformat": 4,
 "nbformat_minor": 4
}
