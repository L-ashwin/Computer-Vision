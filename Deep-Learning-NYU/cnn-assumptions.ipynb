{
 "cells": [
  {
   "cell_type": "code",
   "execution_count": 1,
   "id": "mighty-change",
   "metadata": {},
   "outputs": [],
   "source": [
    "import torch\n",
    "import torch.nn as nn\n",
    "import torch.optim as optim\n",
    "import torch.nn.functional as F\n",
    "from torchvision import datasets, transforms"
   ]
  },
  {
   "cell_type": "code",
   "execution_count": 2,
   "id": "boolean-conditions",
   "metadata": {},
   "outputs": [],
   "source": [
    "import matplotlib.pyplot as plt\n",
    "from res.plot import set_default"
   ]
  },
  {
   "cell_type": "code",
   "execution_count": 3,
   "id": "together-better",
   "metadata": {},
   "outputs": [],
   "source": [
    "device = torch.device(\"cuda:0\" if torch.cuda.is_available() else \"cpu\")"
   ]
  },
  {
   "cell_type": "markdown",
   "id": "close-cooler",
   "metadata": {},
   "source": [
    "# The MNIST DataSet"
   ]
  },
  {
   "cell_type": "code",
   "execution_count": 4,
   "id": "nuclear-humanity",
   "metadata": {},
   "outputs": [],
   "source": [
    "train_set = datasets.MNIST('C:/Users/asbla/Documents/Resources/', \n",
    "                           train = True, \n",
    "                           transform = transforms.Compose([\n",
    "                               transforms.ToTensor(),\n",
    "                               transforms.Normalize(0,1)])\n",
    "                          )\n",
    "\n",
    "test_set  = datasets.MNIST('C:/Users/asbla/Documents/Resources/', \n",
    "                           train = False, \n",
    "                           transform = transforms.Compose([\n",
    "                               transforms.ToTensor(),\n",
    "                               transforms.Normalize(0,1)])\n",
    "                          )"
   ]
  },
  {
   "cell_type": "code",
   "execution_count": 5,
   "id": "beautiful-creature",
   "metadata": {},
   "outputs": [],
   "source": [
    "input_size  = 28*28   # images are 28x28 pixels\n",
    "output_size = 10      # there are 10 classes"
   ]
  },
  {
   "cell_type": "code",
   "execution_count": 6,
   "id": "weekly-archive",
   "metadata": {},
   "outputs": [
    {
     "name": "stdout",
     "output_type": "stream",
     "text": [
      "<class 'torchvision.datasets.mnist.MNIST'>\n",
      "<class 'tuple'>\n",
      "<class 'torch.Tensor'>\n"
     ]
    }
   ],
   "source": [
    "print(type(train_set))\n",
    "print(type(train_set[0]))\n",
    "print(type(train_set[0][0]))"
   ]
  },
  {
   "cell_type": "code",
   "execution_count": 7,
   "id": "tight-database",
   "metadata": {},
   "outputs": [],
   "source": [
    "train_loader = torch.utils.data.DataLoader(train_set, batch_size=64, shuffle=True)\n",
    "test_loader  = torch.utils.data.DataLoader(test_set,  batch_size=256, shuffle=True)"
   ]
  },
  {
   "cell_type": "code",
   "execution_count": 8,
   "id": "short-liver",
   "metadata": {},
   "outputs": [],
   "source": [
    "imgs, labels = next(iter(train_loader))"
   ]
  },
  {
   "cell_type": "code",
   "execution_count": 9,
   "id": "unavailable-layer",
   "metadata": {},
   "outputs": [
    {
     "name": "stdout",
     "output_type": "stream",
     "text": [
      "torch.Size([64, 1, 28, 28])\n",
      "torch.Size([64])\n"
     ]
    }
   ],
   "source": [
    "print(imgs.shape)\n",
    "print(labels.shape)"
   ]
  },
  {
   "cell_type": "code",
   "execution_count": 10,
   "id": "processed-reynolds",
   "metadata": {},
   "outputs": [
    {
     "data": {
      "image/png": "[encoded data removed]",
      "text/plain": [
       "<Figure size 1200x300 with 5 Axes>"
      ]
     },
     "metadata": {},
     "output_type": "display_data"
    }
   ],
   "source": [
    "set_default((12,3))\n",
    "for i in range(5):\n",
    "    plt.subplot(1,5,i+1)\n",
    "    plt.imshow(train_set[i][0].squeeze())\n",
    "    plt.axis('off')\n",
    "plt.suptitle('Examples in dataset', size=16)\n",
    "plt.show()"
   ]
  },
  {
   "cell_type": "markdown",
   "id": "random-reynolds",
   "metadata": {},
   "source": [
    "# Fully Connected Two hidden layer Netwrok"
   ]
  },
  {
   "cell_type": "code",
   "execution_count": 11,
   "id": "creative-screening",
   "metadata": {},
   "outputs": [],
   "source": [
    "class FC2Layer(nn.Module):\n",
    "    def __init__(self, input_size, n_hidden, output_size):\n",
    "        super(FC2Layer, self).__init__()\n",
    "        self.input_size = input_size\n",
    "        \n",
    "        self.linear1 = nn.Linear(input_size, n_hidden) \n",
    "        self.linear2 = nn.Linear(n_hidden, n_hidden)\n",
    "        self.linear3 = nn.Linear(n_hidden, output_size)\n",
    "        \n",
    "    def forward(self, x):\n",
    "        x = x.view(-1, self.input_size)\n",
    "        x = self.linear1(x)\n",
    "        x = F.relu(x)\n",
    "        x = self.linear2(x)\n",
    "        x = F.relu(x)\n",
    "        x = self.linear3(x)\n",
    "        x = F.log_softmax(x, dim=1)\n",
    "        return x"
   ]
  },
  {
   "cell_type": "code",
   "execution_count": 12,
   "id": "unexpected-laundry",
   "metadata": {},
   "outputs": [],
   "source": [
    "n_hidden = 8 # number of hidden units\n",
    "\n",
    "model_fc = FC2Layer(input_size, n_hidden, output_size)\n",
    "model_fc.to(device)\n",
    "\n",
    "optimizer = optim.SGD(model_fc.parameters(), lr=0.01, momentum=0.5)"
   ]
  },
  {
   "cell_type": "code",
   "execution_count": 13,
   "id": "prime-huntington",
   "metadata": {},
   "outputs": [
    {
     "name": "stdout",
     "output_type": "stream",
     "text": [
      "Number of parameters: 6442\n"
     ]
    }
   ],
   "source": [
    "params=0\n",
    "for p in list(model_fc.parameters()):\n",
    "    params += p.nelement()\n",
    "print(f'Number of parameters: {params}')"
   ]
  },
  {
   "cell_type": "code",
   "execution_count": 14,
   "id": "resistant-sapphire",
   "metadata": {},
   "outputs": [],
   "source": [
    "def train(model, train_loader, epochs):\n",
    "    for epoch in range(epochs):\n",
    "        for batch_idx, (data, target) in enumerate(train_loader):\n",
    "            data, target = data.to(device), target.to(device)\n",
    "            \n",
    "            # forward Propagation\n",
    "            optimizer.zero_grad()\n",
    "            output = model(data)\n",
    "            \n",
    "            # Compute Loss\n",
    "            loss   = F.nll_loss(output, target)\n",
    "            \n",
    "            # backward Propagation\n",
    "            loss.backward()\n",
    "            \n",
    "            # Optimisation step (weight updates)\n",
    "            optimizer.step()\n",
    "\n",
    "            if batch_idx % 100 == 0:\n",
    "                print('Train Epoch: {} [{}/{}] \\tLoss: {:.6f}'.format(\n",
    "                    epoch, \n",
    "                    batch_idx*len(data), len(train_loader.dataset),\n",
    "                    loss.item()))"
   ]
  },
  {
   "cell_type": "code",
   "execution_count": 15,
   "id": "defined-wrapping",
   "metadata": {},
   "outputs": [
    {
     "name": "stdout",
     "output_type": "stream",
     "text": [
      "Train Epoch: 0 [0/60000] \tLoss: 2.285449\n",
      "Train Epoch: 0 [6400/60000] \tLoss: 2.212178\n",
      "Train Epoch: 0 [12800/60000] \tLoss: 2.013342\n",
      "Train Epoch: 0 [19200/60000] \tLoss: 1.921452\n",
      "Train Epoch: 0 [25600/60000] \tLoss: 1.786750\n",
      "Train Epoch: 0 [32000/60000] \tLoss: 1.365377\n",
      "Train Epoch: 0 [38400/60000] \tLoss: 0.924513\n",
      "Train Epoch: 0 [44800/60000] \tLoss: 0.985812\n",
      "Train Epoch: 0 [51200/60000] \tLoss: 0.694538\n",
      "Train Epoch: 0 [57600/60000] \tLoss: 0.667440\n"
     ]
    }
   ],
   "source": [
    "train(model_fc, train_loader, 1)"
   ]
  },
  {
   "cell_type": "code",
   "execution_count": 16,
   "id": "documentary-transportation",
   "metadata": {},
   "outputs": [],
   "source": [
    "def test(model, test_loader):\n",
    "    model.eval()\n",
    "    correct = 0\n",
    "    for data, target in test_loader:\n",
    "        data, target = data.to(device), target.to(device)\n",
    "    \n",
    "        output = model(data)\n",
    "        \n",
    "        #[1] -> to get the index of the max log-probability                                                                  \n",
    "        pred = output.data.max(dim=1, keepdim=True)[1]                                                            \n",
    "        correct += pred.eq(target.data.view_as(pred)).cpu().sum().item()\n",
    "\n",
    "    accuracy = 100. * correct / len(test_loader.dataset)\n",
    "    print('\\nTest set: Accuracy: {}/{} ({:.0f}%)\\n'.format(\n",
    "        correct, len(test_loader.dataset),\n",
    "        accuracy))"
   ]
  },
  {
   "cell_type": "code",
   "execution_count": 17,
   "id": "frank-mistake",
   "metadata": {},
   "outputs": [
    {
     "name": "stdout",
     "output_type": "stream",
     "text": [
      "\n",
      "Test set: Accuracy: 8163/10000 (82%)\n",
      "\n"
     ]
    }
   ],
   "source": [
    "test(model_fc, test_loader)"
   ]
  },
  {
   "cell_type": "markdown",
   "id": "elementary-presentation",
   "metadata": {},
   "source": [
    "# Convolutional Neural Network with same number of total parameters"
   ]
  },
  {
   "cell_type": "markdown",
   "id": "polished-chuck",
   "metadata": {},
   "source": [
    "## Assumptions\n",
    "### 1. Locality - Sparsity\n",
    "- Nearby things are more likely to be related.\n",
    "\n",
    "### 2. Stationarity - Parameter Sharing\n",
    "- Certain pattern can appear anywhere in the field.\n",
    "\n",
    "### 3. Compositionality - Multi layer\n",
    "- The idea that everything is made up of parts that are made up of sub-parts and so on.. Compositionality allows for explainability. "
   ]
  },
  {
   "cell_type": "code",
   "execution_count": 18,
   "id": "above-priest",
   "metadata": {},
   "outputs": [],
   "source": [
    "class CNN(nn.Module):\n",
    "    def __init__(self, input_size, n_feature, output_size):\n",
    "        super(CNN, self).__init__()\n",
    "        self.n_feature = n_feature\n",
    "        \n",
    "        self.conv1 = nn.Conv2d(in_channels=1, out_channels=n_feature, kernel_size=5)\n",
    "        self.conv2 = nn.Conv2d(in_channels=n_feature, out_channels=n_feature, kernel_size=5)\n",
    "        self.fc1 = nn.Linear(n_feature*4*4, 50)\n",
    "        self.fc2 = nn.Linear(50, output_size)\n",
    "        \n",
    "    def forward(self, x):\n",
    "        x = self.conv1(x)\n",
    "        x = F.relu(x)\n",
    "        x = F.max_pool2d(x, kernel_size=2)\n",
    "        \n",
    "        x = self.conv2(x)\n",
    "        x = F.relu(x)\n",
    "        x = F.max_pool2d(x, kernel_size=2)\n",
    "        \n",
    "        x = x.view(-1, self.n_feature*4*4)\n",
    "        \n",
    "        x = self.fc1(x)\n",
    "        x = F.relu(x)\n",
    "        \n",
    "        x = self.fc2(x)\n",
    "        x = F.log_softmax(x, dim=1)\n",
    "        return x"
   ]
  },
  {
   "cell_type": "code",
   "execution_count": 19,
   "id": "supposed-prior",
   "metadata": {},
   "outputs": [],
   "source": [
    "n_features = 6 # number of feature maps\n",
    "\n",
    "model_cnn = CNN(input_size, n_features, output_size)\n",
    "model_cnn.to(device)\n",
    "\n",
    "optimizer = optim.SGD(model_cnn.parameters(), lr=0.01, momentum=0.5)"
   ]
  },
  {
   "cell_type": "code",
   "execution_count": 20,
   "id": "electoral-survey",
   "metadata": {},
   "outputs": [
    {
     "name": "stdout",
     "output_type": "stream",
     "text": [
      "Number of parameters: 6422\n"
     ]
    }
   ],
   "source": [
    "params=0\n",
    "for p in list(model_cnn.parameters()):\n",
    "    params += p.nelement()\n",
    "print(f'Number of parameters: {params}')"
   ]
  },
  {
   "cell_type": "code",
   "execution_count": 21,
   "id": "professional-looking",
   "metadata": {},
   "outputs": [
    {
     "name": "stdout",
     "output_type": "stream",
     "text": [
      "Train Epoch: 0 [0/60000] \tLoss: 2.301472\n",
      "Train Epoch: 0 [6400/60000] \tLoss: 2.282376\n",
      "Train Epoch: 0 [12800/60000] \tLoss: 2.260879\n",
      "Train Epoch: 0 [19200/60000] \tLoss: 1.754123\n",
      "Train Epoch: 0 [25600/60000] \tLoss: 1.048190\n",
      "Train Epoch: 0 [32000/60000] \tLoss: 0.682688\n",
      "Train Epoch: 0 [38400/60000] \tLoss: 0.488626\n",
      "Train Epoch: 0 [44800/60000] \tLoss: 0.332008\n",
      "Train Epoch: 0 [51200/60000] \tLoss: 0.272197\n",
      "Train Epoch: 0 [57600/60000] \tLoss: 0.389097\n"
     ]
    }
   ],
   "source": [
    "train(model_cnn, train_loader, 1)"
   ]
  },
  {
   "cell_type": "code",
   "execution_count": 22,
   "id": "weighted-sympathy",
   "metadata": {},
   "outputs": [
    {
     "name": "stdout",
     "output_type": "stream",
     "text": [
      "\n",
      "Test set: Accuracy: 8984/10000 (90%)\n",
      "\n"
     ]
    }
   ],
   "source": [
    "test(model_cnn, test_loader)"
   ]
  },
  {
   "cell_type": "markdown",
   "id": "improving-manner",
   "metadata": {},
   "source": [
    "# Diverging from the Assumptions of CNN"
   ]
  },
  {
   "cell_type": "code",
   "execution_count": 23,
   "id": "black-lender",
   "metadata": {},
   "outputs": [
    {
     "data": {
      "image/png": "[encoded data removed]",
      "text/plain": [
       "<Figure size 1200x600 with 10 Axes>"
      ]
     },
     "metadata": {},
     "output_type": "display_data"
    }
   ],
   "source": [
    "perm = torch.randperm(784)\n",
    "\n",
    "set_default((12,6))\n",
    "for i in range(5):\n",
    "    image = train_set[i][0]\n",
    "    \n",
    "    plt.subplot(2,5, i+1)\n",
    "    plt.imshow(image.squeeze())\n",
    "    plt.axis('off')\n",
    "    \n",
    "    image_perm = image.view(-1, 28*28).clone()\n",
    "    image_perm = image_perm[:, perm]\n",
    "    image_perm = image_perm.view(-1, 1, 28, 28)\n",
    "    \n",
    "    plt.subplot(2,5, 5+i+1)\n",
    "    plt.imshow(image_perm.squeeze())\n",
    "    plt.axis('off')\n",
    "    \n",
    "plt.suptitle('Examples in dataset', size=16)\n",
    "plt.show()"
   ]
  },
  {
   "cell_type": "code",
   "execution_count": 24,
   "id": "least-report",
   "metadata": {},
   "outputs": [],
   "source": [
    "def train_perm(model, train_loader, epochs, perm):\n",
    "    for epoch in range(epochs):\n",
    "        for batch_idx, (data, target) in enumerate(train_loader):\n",
    "            data, target = data.to(device), target.to(device)\n",
    "            \n",
    "            data = data.view(-1, 28*28).clone()\n",
    "            data = data[:, perm]\n",
    "            data = data.view(-1, 1, 28, 28)\n",
    "        \n",
    "            # forward Propagation\n",
    "            optimizer.zero_grad()\n",
    "            output = model(data)\n",
    "            \n",
    "            # Compute Loss\n",
    "            loss   = F.nll_loss(output, target)\n",
    "            \n",
    "            # backward Propagation\n",
    "            loss.backward()\n",
    "            \n",
    "            # Optimisation step (weight updates)\n",
    "            optimizer.step()\n",
    "\n",
    "            if batch_idx % 100 == 0:\n",
    "                print('Train Epoch: {} [{}/{}] \\tLoss: {:.6f}'.format(\n",
    "                    epoch, \n",
    "                    batch_idx*len(data), len(train_loader.dataset),\n",
    "                    loss.item()))"
   ]
  },
  {
   "cell_type": "code",
   "execution_count": 25,
   "id": "indoor-collection",
   "metadata": {},
   "outputs": [],
   "source": [
    "def test_perm(model, test_loader, perm):\n",
    "    model.eval()\n",
    "    correct = 0\n",
    "    for data, target in test_loader:\n",
    "        data, target = data.to(device), target.to(device)\n",
    "    \n",
    "        data = data.view(-1, 28*28).clone()\n",
    "        data = data[:, perm]\n",
    "        data = data.view(-1, 1, 28, 28)\n",
    "    \n",
    "        output = model(data)\n",
    "        \n",
    "        #[1] -> to get the index of the max log-probability                                                                  \n",
    "        pred = output.data.max(dim=1, keepdim=True)[1]                                                            \n",
    "        correct += pred.eq(target.data.view_as(pred)).cpu().sum().item()\n",
    "\n",
    "    accuracy = 100. * correct / len(test_loader.dataset)\n",
    "    print('\\nTest set: Accuracy: {}/{} ({:.0f}%)\\n'.format(\n",
    "        correct, len(test_loader.dataset),\n",
    "        accuracy))"
   ]
  },
  {
   "cell_type": "code",
   "execution_count": 26,
   "id": "fiscal-venture",
   "metadata": {},
   "outputs": [],
   "source": [
    "n_hidden = 8 # number of hidden units\n",
    "\n",
    "model_fc = FC2Layer(input_size, n_hidden, output_size)\n",
    "model_fc.to(device)\n",
    "\n",
    "optimizer = optim.SGD(model_fc.parameters(), lr=0.01, momentum=0.5)"
   ]
  },
  {
   "cell_type": "code",
   "execution_count": 27,
   "id": "behavioral-prediction",
   "metadata": {},
   "outputs": [
    {
     "name": "stdout",
     "output_type": "stream",
     "text": [
      "Train Epoch: 0 [0/60000] \tLoss: 2.318180\n",
      "Train Epoch: 0 [6400/60000] \tLoss: 2.231887\n",
      "Train Epoch: 0 [12800/60000] \tLoss: 2.089429\n",
      "Train Epoch: 0 [19200/60000] \tLoss: 2.001812\n",
      "Train Epoch: 0 [25600/60000] \tLoss: 1.504731\n",
      "Train Epoch: 0 [32000/60000] \tLoss: 1.415200\n",
      "Train Epoch: 0 [38400/60000] \tLoss: 0.957074\n",
      "Train Epoch: 0 [44800/60000] \tLoss: 1.194509\n",
      "Train Epoch: 0 [51200/60000] \tLoss: 0.952248\n",
      "Train Epoch: 0 [57600/60000] \tLoss: 0.697604\n"
     ]
    }
   ],
   "source": [
    "train_perm(model_fc, train_loader, 1, perm)"
   ]
  },
  {
   "cell_type": "code",
   "execution_count": 28,
   "id": "strategic-spider",
   "metadata": {},
   "outputs": [
    {
     "name": "stdout",
     "output_type": "stream",
     "text": [
      "\n",
      "Test set: Accuracy: 7886/10000 (79%)\n",
      "\n"
     ]
    }
   ],
   "source": [
    "test_perm(model_fc, test_loader, perm)"
   ]
  },
  {
   "cell_type": "code",
   "execution_count": 29,
   "id": "unlike-hindu",
   "metadata": {},
   "outputs": [],
   "source": [
    "n_features = 6 # number of feature maps\n",
    "\n",
    "model_cnn = CNN(input_size, n_features, output_size)\n",
    "model_cnn.to(device)\n",
    "\n",
    "optimizer = optim.SGD(model_cnn.parameters(), lr=0.01, momentum=0.5)"
   ]
  },
  {
   "cell_type": "code",
   "execution_count": 30,
   "id": "incorporated-cabin",
   "metadata": {},
   "outputs": [
    {
     "name": "stdout",
     "output_type": "stream",
     "text": [
      "Train Epoch: 0 [0/60000] \tLoss: 2.310347\n",
      "Train Epoch: 0 [6400/60000] \tLoss: 2.314252\n",
      "Train Epoch: 0 [12800/60000] \tLoss: 2.275862\n",
      "Train Epoch: 0 [19200/60000] \tLoss: 2.294259\n",
      "Train Epoch: 0 [25600/60000] \tLoss: 2.246100\n",
      "Train Epoch: 0 [32000/60000] \tLoss: 2.228028\n",
      "Train Epoch: 0 [38400/60000] \tLoss: 2.137091\n",
      "Train Epoch: 0 [44800/60000] \tLoss: 2.128325\n",
      "Train Epoch: 0 [51200/60000] \tLoss: 1.982811\n",
      "Train Epoch: 0 [57600/60000] \tLoss: 1.730322\n"
     ]
    }
   ],
   "source": [
    "train_perm(model_cnn, train_loader, 1, perm)"
   ]
  },
  {
   "cell_type": "code",
   "execution_count": 31,
   "id": "stylish-fighter",
   "metadata": {},
   "outputs": [
    {
     "name": "stdout",
     "output_type": "stream",
     "text": [
      "\n",
      "Test set: Accuracy: 4085/10000 (41%)\n",
      "\n"
     ]
    }
   ],
   "source": [
    "test_perm(model_cnn, test_loader, perm)"
   ]
  },
  {
   "cell_type": "code",
   "execution_count": null,
   "id": "significant-professor",
   "metadata": {},
   "outputs": [],
   "source": []
  }
 ],
 "metadata": {
  "kernelspec": {
   "display_name": "Python 3",
   "language": "python",
   "name": "python3"
  },
  "language_info": {
   "codemirror_mode": {
    "name": "ipython",
    "version": 3
   },
   "file_extension": ".py",
   "mimetype": "text/x-python",
   "name": "python",
   "nbconvert_exporter": "python",
   "pygments_lexer": "ipython3",
   "version": "3.8.3"
  }
 },
 "nbformat": 4,
 "nbformat_minor": 5
}
